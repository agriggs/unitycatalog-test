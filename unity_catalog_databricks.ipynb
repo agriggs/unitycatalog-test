{
 "cells": [
  {
   "cell_type": "code",
   "execution_count": null,
   "id": "ba0ad3a5",
   "metadata": {},
   "outputs": [],
   "source": [
    "from config import *"
   ]
  },
  {
   "cell_type": "code",
   "execution_count": null,
   "id": "a984e25e",
   "metadata": {},
   "outputs": [],
   "source": [
    "from databricks_cli import get_databricks_token\n",
    "\n",
    "catalog = databricks_catalog\n",
    "catalog_url = databricks_unity_catalog_url\n",
    "if databricks_unity_catalog_admin_token:\n",
    "    token = databricks_unity_catalog_admin_token\n",
    "else:\n",
    "    token = get_databricks_token(databricks_cli_profile)"
   ]
  },
  {
   "cell_type": "code",
   "execution_count": null,
   "id": "2ee15f26",
   "metadata": {},
   "outputs": [],
   "source": [
    "from spark_config import get_spark_session\n",
    "\n",
    "spark = get_spark_session(catalog_url, catalog, token)"
   ]
  },
  {
   "cell_type": "code",
   "execution_count": null,
   "id": "b765a842",
   "metadata": {},
   "outputs": [],
   "source": [
    "\n",
    "spark.sql(\"SHOW SCHEMAS\").show()"
   ]
  },
  {
   "cell_type": "code",
   "execution_count": null,
   "id": "772b2204",
   "metadata": {},
   "outputs": [],
   "source": [
    "spark.sql(\"SHOW TABLES IN enodo.govcontracting\").show()"
   ]
  },
  {
   "cell_type": "code",
   "execution_count": null,
   "id": "8f4d09eb",
   "metadata": {},
   "outputs": [],
   "source": [
    "df = spark.sql(\"SELECT * FROM enodo.govcontracting.cancelled_awards LIMIT 5;\")\n",
    "df.show()"
   ]
  },
  {
   "cell_type": "code",
   "execution_count": null,
   "id": "d411f895",
   "metadata": {},
   "outputs": [],
   "source": [
    "spark.sql(\"SELECT COUNT(*) FROM govcontracting.awards_details\").show()"
   ]
  },
  {
   "cell_type": "code",
   "execution_count": null,
   "id": "52834398",
   "metadata": {},
   "outputs": [],
   "source": [
    "awards_details = spark.read.format(\"delta\").table(\"govcontracting.awards_details\")\n",
    "awards_details.count()"
   ]
  },
  {
   "cell_type": "code",
   "execution_count": null,
   "id": "5aed467e",
   "metadata": {},
   "outputs": [],
   "source": [
    "awards_details.limit(5).show()"
   ]
  }
 ],
 "metadata": {
  "kernelspec": {
   "display_name": ".venv",
   "language": "python",
   "name": "python3"
  },
  "language_info": {
   "codemirror_mode": {
    "name": "ipython",
    "version": 3
   },
   "file_extension": ".py",
   "mimetype": "text/x-python",
   "name": "python",
   "nbconvert_exporter": "python",
   "pygments_lexer": "ipython3",
   "version": "3.12.10"
  }
 },
 "nbformat": 4,
 "nbformat_minor": 5
}
