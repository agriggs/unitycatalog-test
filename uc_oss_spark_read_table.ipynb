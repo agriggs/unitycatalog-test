{
 "cells": [
  {
   "cell_type": "code",
   "execution_count": null,
   "id": "a609affa",
   "metadata": {},
   "outputs": [],
   "source": [
    "token = \"\"\n",
    "catalog = \"unity\"\n",
    "uc_url = \"http://localhost:8080\""
   ]
  },
  {
   "cell_type": "code",
   "execution_count": null,
   "id": "2ee15f26",
   "metadata": {},
   "outputs": [],
   "source": [
    "from pyspark.sql import SparkSession\n",
    "\n",
    "spark = SparkSession.builder \\\n",
    "    .appName(\"local-uc-test\") \\\n",
    "    .master(\"local[*]\") \\\n",
    "    .config(\"spark.jars.packages\", \"io.delta:delta-spark_2.12:3.2.1,io.unitycatalog:unitycatalog-spark_2.12:0.2.0\") \\\n",
    "    .config(\"spark.sql.extensions\", \"io.delta.sql.DeltaSparkSessionExtension\") \\\n",
    "    .config(\"spark.sql.catalog.spark_catalog\", \"io.unitycatalog.spark.UCSingleCatalog\") \\\n",
    "    .config(f\"spark.sql.catalog.{catalog}\", \"io.unitycatalog.spark.UCSingleCatalog\") \\\n",
    "    .config(f\"spark.sql.catalog.{catalog}.uri\", uc_url) \\\n",
    "    .config(f\"spark.sql.catalog.{catalog}.token\", token) \\\n",
    "    .config(\"spark.sql.defaultCatalog\", catalog) \\\n",
    "    .getOrCreate()"
   ]
  },
  {
   "cell_type": "code",
   "execution_count": null,
   "id": "d822149f",
   "metadata": {},
   "outputs": [],
   "source": [
    "df = spark.sql(\"select * from unity.default.marksheet\")\n",
    "df.show()"
   ]
  }
 ],
 "metadata": {
  "kernelspec": {
   "display_name": ".venv",
   "language": "python",
   "name": "python3"
  },
  "language_info": {
   "codemirror_mode": {
    "name": "ipython",
    "version": 3
   },
   "file_extension": ".py",
   "mimetype": "text/x-python",
   "name": "python",
   "nbconvert_exporter": "python",
   "pygments_lexer": "ipython3",
   "version": "3.12.3"
  }
 },
 "nbformat": 4,
 "nbformat_minor": 5
}
