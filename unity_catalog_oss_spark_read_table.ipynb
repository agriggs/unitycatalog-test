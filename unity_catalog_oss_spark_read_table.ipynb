{
 "cells": [
  {
   "cell_type": "code",
   "execution_count": null,
   "id": "ba0ad3a5",
   "metadata": {},
   "outputs": [],
   "source": [
    "from _env import *"
   ]
  },
  {
   "cell_type": "code",
   "execution_count": null,
   "id": "5c8ebb7e",
   "metadata": {},
   "outputs": [],
   "source": [
    "catalog = oss_unity_catalog\n",
    "catalog_url = oss_unity_catalog_url\n",
    "token = oss_unity_catalog_admin_token"
   ]
  },
  {
   "cell_type": "code",
   "execution_count": null,
   "id": "2ee15f26",
   "metadata": {},
   "outputs": [],
   "source": [
    "from spark_config import get_spark_session\n",
    "\n",
    "spark = get_spark_session(catalog_url, catalog, token)"
   ]
  },
  {
   "cell_type": "code",
   "execution_count": null,
   "id": "b765a842",
   "metadata": {},
   "outputs": [],
   "source": [
    "\n",
    "spark.sql(\"SHOW SCHEMAS\").show()"
   ]
  },
  {
   "cell_type": "code",
   "execution_count": null,
   "id": "772b2204",
   "metadata": {},
   "outputs": [],
   "source": [
    "spark.sql(\"SHOW TABLES IN default\").show()"
   ]
  },
  {
   "cell_type": "code",
   "execution_count": null,
   "id": "8f4d09eb",
   "metadata": {},
   "outputs": [],
   "source": [
    "df = spark.sql(\"SELECT * FROM default.marksheet LIMIT 5;\")\n",
    "df.show()"
   ]
  }
 ],
 "metadata": {
  "kernelspec": {
   "display_name": ".venv",
   "language": "python",
   "name": "python3"
  },
  "language_info": {
   "codemirror_mode": {
    "name": "ipython",
    "version": 3
   },
   "file_extension": ".py",
   "mimetype": "text/x-python",
   "name": "python",
   "nbconvert_exporter": "python",
   "pygments_lexer": "ipython3",
   "version": "3.12.3"
  }
 },
 "nbformat": 4,
 "nbformat_minor": 5
}
