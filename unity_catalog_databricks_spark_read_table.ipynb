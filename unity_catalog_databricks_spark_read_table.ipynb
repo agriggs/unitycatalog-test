{
 "cells": [
  {
   "cell_type": "code",
   "execution_count": null,
   "id": "ba0ad3a5",
   "metadata": {},
   "outputs": [],
   "source": [
    "from _env import *"
   ]
  },
  {
   "cell_type": "code",
   "execution_count": null,
   "id": "a984e25e",
   "metadata": {},
   "outputs": [],
   "source": [
    "\n",
    "catalog = databricks_catalog\n",
    "catalog_url = databricks_unity_catalog_url\n",
    "token = databricks_catalog"
   ]
  },
  {
   "cell_type": "code",
   "execution_count": null,
   "id": "2ee15f26",
   "metadata": {},
   "outputs": [],
   "source": [
    "from spark_config import get_spark_session\n",
    "\n",
    "spark = get_spark_session(catalog_url, catalog, token)"
   ]
  },
  {
   "cell_type": "code",
   "execution_count": null,
   "id": "b765a842",
   "metadata": {},
   "outputs": [],
   "source": [
    "\n",
    "spark.sql(\"SHOW SCHEMAS\").show()"
   ]
  },
  {
   "cell_type": "code",
   "execution_count": null,
   "id": "772b2204",
   "metadata": {},
   "outputs": [],
   "source": [
    "spark.sql(\"SHOW TABLES IN gov-contracting\").show()"
   ]
  },
  {
   "cell_type": "code",
   "execution_count": null,
   "id": "8f4d09eb",
   "metadata": {},
   "outputs": [],
   "source": [
    "spark.sql(\"SELECT * FROM default.marksheet LIMIT 5;\").show()"
   ]
  },
  {
   "cell_type": "code",
   "execution_count": null,
   "id": "d822149f",
   "metadata": {},
   "outputs": [],
   "source": [
    "df = spark.sql(\"select * from unity.default.numbers\")\n",
    "df.show()"
   ]
  }
 ],
 "metadata": {
  "kernelspec": {
   "display_name": ".venv",
   "language": "python",
   "name": "python3"
  },
  "language_info": {
   "codemirror_mode": {
    "name": "ipython",
    "version": 3
   },
   "file_extension": ".py",
   "mimetype": "text/x-python",
   "name": "python",
   "nbconvert_exporter": "python",
   "pygments_lexer": "ipython3",
   "version": "3.12.10"
  }
 },
 "nbformat": 4,
 "nbformat_minor": 5
}
